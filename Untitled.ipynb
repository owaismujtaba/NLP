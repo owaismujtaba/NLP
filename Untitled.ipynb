{
 "cells": [
  {
   "cell_type": "code",
   "execution_count": 7,
   "id": "95c88a90-06b5-4b68-99f8-9079acc444ad",
   "metadata": {},
   "outputs": [],
   "source": [
    "import spacy"
   ]
  },
  {
   "cell_type": "code",
   "execution_count": 8,
   "id": "738af07b-1cd8-4097-8290-e99ad9a5ea63",
   "metadata": {},
   "outputs": [],
   "source": [
    "nlp = spacy.load(\"en_core_web_sm\")"
   ]
  },
  {
   "cell_type": "code",
   "execution_count": 9,
   "id": "16afda08-c7e5-41e3-9a74-77411ca93795",
   "metadata": {},
   "outputs": [
    {
     "data": {
      "text/plain": [
       "['tok2vec', 'tagger', 'parser', 'attribute_ruler', 'lemmatizer', 'ner']"
      ]
     },
     "execution_count": 9,
     "metadata": {},
     "output_type": "execute_result"
    }
   ],
   "source": [
    "nlp.pipe_names"
   ]
  },
  {
   "cell_type": "code",
   "execution_count": 10,
   "id": "d259887b-e64f-4a7f-b145-ec4a393794df",
   "metadata": {},
   "outputs": [
    {
     "data": {
      "text/plain": [
       "[('tok2vec', <spacy.pipeline.tok2vec.Tok2Vec at 0x7fe79512b880>),\n",
       " ('tagger', <spacy.pipeline.tagger.Tagger at 0x7fe795281700>),\n",
       " ('parser', <spacy.pipeline.dep_parser.DependencyParser at 0x7fe794822f20>),\n",
       " ('attribute_ruler',\n",
       "  <spacy.pipeline.attributeruler.AttributeRuler at 0x7fe794439100>),\n",
       " ('lemmatizer',\n",
       "  <spacy.lang.en.lemmatizer.EnglishLemmatizer at 0x7fe79443bf80>),\n",
       " ('ner', <spacy.pipeline.ner.EntityRecognizer at 0x7fe7946de3c0>)]"
      ]
     },
     "execution_count": 10,
     "metadata": {},
     "output_type": "execute_result"
    }
   ],
   "source": [
    "nlp.pipeline"
   ]
  },
  {
   "cell_type": "code",
   "execution_count": 11,
   "id": "21e8da8c-91d1-49c8-9d90-1a9cd70335f8",
   "metadata": {},
   "outputs": [],
   "source": [
    "from spacy.language import Language\n"
   ]
  },
  {
   "cell_type": "code",
   "execution_count": 13,
   "id": "78acf6ee-61f7-4b29-a902-e5a5ef995aaf",
   "metadata": {},
   "outputs": [
    {
     "data": {
      "text/plain": [
       "'\\n@Language.component(\"custom_component\")\\ndef custom_component_function(doc):\\n    pass\\n\\n    return doc\\n\\n#Default add pipeline component at the last \\n#or you can specify first before after \\n#nlp.add_pipe(\"custom_cpmponent\", befor=\\'ner\\')\\nnlp.add_pipe(\"custom_cpmponent\")\\n'"
      ]
     },
     "execution_count": 13,
     "metadata": {},
     "output_type": "execute_result"
    }
   ],
   "source": [
    "# Adding a pipeline component to spacy\n",
    "'''\n",
    "@Language.component(\"custom_component\")\n",
    "def custom_component_function(doc):\n",
    "    pass\n",
    "\n",
    "    return doc\n",
    "\n",
    "#Default add pipeline component at the last \n",
    "#or you can specify first before after \n",
    "#nlp.add_pipe(\"custom_cpmponent\", befor='ner')\n",
    "nlp.add_pipe(\"custom_cpmponent\")\n",
    "'''"
   ]
  },
  {
   "cell_type": "code",
   "execution_count": 14,
   "id": "6cc036b1-2fed-43de-ac2d-783e8693b512",
   "metadata": {},
   "outputs": [],
   "source": [
    "nlp = spacy.load(\"en_core_web_sm\")"
   ]
  },
  {
   "cell_type": "code",
   "execution_count": 20,
   "id": "4f6838d4-1fa9-4997-84e8-a209ed08a0d1",
   "metadata": {},
   "outputs": [
    {
     "ename": "ValueError",
     "evalue": "[E007] 'Document_Length' already exists in pipeline. Existing names: ['tok2vec', 'tagger', 'parser', 'senter', 'attribute_ruler', 'lemmatizer', 'ner', 'Document_Length']",
     "output_type": "error",
     "traceback": [
      "\u001b[0;31m---------------------------------------------------------------------------\u001b[0m",
      "\u001b[0;31mValueError\u001b[0m                                Traceback (most recent call last)",
      "Input \u001b[0;32mIn [20]\u001b[0m, in \u001b[0;36m<cell line: 8>\u001b[0;34m()\u001b[0m\n\u001b[1;32m      4\u001b[0m     \u001b[38;5;28mprint\u001b[39m(\u001b[38;5;124m\"\u001b[39m\u001b[38;5;124mLength of Document: \u001b[39m\u001b[38;5;124m\"\u001b[39m, \u001b[38;5;28mlen\u001b[39m(doc))\n\u001b[1;32m      5\u001b[0m     \u001b[38;5;28;01mreturn\u001b[39;00m doc\n\u001b[0;32m----> 8\u001b[0m \u001b[43mnlp\u001b[49m\u001b[38;5;241;43m.\u001b[39;49m\u001b[43madd_pipe\u001b[49m\u001b[43m(\u001b[49m\u001b[38;5;124;43m\"\u001b[39;49m\u001b[38;5;124;43mDocument_Length\u001b[39;49m\u001b[38;5;124;43m\"\u001b[39;49m\u001b[43m)\u001b[49m\n",
      "File \u001b[0;32m~/PyTorch/lib/python3.8/site-packages/spacy/language.py:776\u001b[0m, in \u001b[0;36mLanguage.add_pipe\u001b[0;34m(self, factory_name, name, before, after, first, last, source, config, raw_config, validate)\u001b[0m\n\u001b[1;32m    774\u001b[0m name \u001b[38;5;241m=\u001b[39m name \u001b[38;5;28;01mif\u001b[39;00m name \u001b[38;5;129;01mis\u001b[39;00m \u001b[38;5;129;01mnot\u001b[39;00m \u001b[38;5;28;01mNone\u001b[39;00m \u001b[38;5;28;01melse\u001b[39;00m factory_name\n\u001b[1;32m    775\u001b[0m \u001b[38;5;28;01mif\u001b[39;00m name \u001b[38;5;129;01min\u001b[39;00m \u001b[38;5;28mself\u001b[39m\u001b[38;5;241m.\u001b[39mcomponent_names:\n\u001b[0;32m--> 776\u001b[0m     \u001b[38;5;28;01mraise\u001b[39;00m \u001b[38;5;167;01mValueError\u001b[39;00m(Errors\u001b[38;5;241m.\u001b[39mE007\u001b[38;5;241m.\u001b[39mformat(name\u001b[38;5;241m=\u001b[39mname, opts\u001b[38;5;241m=\u001b[39m\u001b[38;5;28mself\u001b[39m\u001b[38;5;241m.\u001b[39mcomponent_names))\n\u001b[1;32m    777\u001b[0m \u001b[38;5;66;03m# Overriding pipe name in the config is not supported and will be ignored.\u001b[39;00m\n\u001b[1;32m    778\u001b[0m \u001b[38;5;28;01mif\u001b[39;00m \u001b[38;5;124m\"\u001b[39m\u001b[38;5;124mname\u001b[39m\u001b[38;5;124m\"\u001b[39m \u001b[38;5;129;01min\u001b[39;00m config:\n",
      "\u001b[0;31mValueError\u001b[0m: [E007] 'Document_Length' already exists in pipeline. Existing names: ['tok2vec', 'tagger', 'parser', 'senter', 'attribute_ruler', 'lemmatizer', 'ner', 'Document_Length']"
     ]
    }
   ],
   "source": [
    "@Language.component(\"Document_Length\")\n",
    "def custom_component_function(doc):\n",
    "    \n",
    "    print(\"Length of Document: \", len(doc))\n",
    "    return doc\n",
    "\n",
    "\n",
    "nlp.add_pipe(\"Document_Length\")"
   ]
  },
  {
   "cell_type": "code",
   "execution_count": 16,
   "id": "a168fa87-0dbf-42a6-bf3a-f48b08645e1d",
   "metadata": {},
   "outputs": [
    {
     "name": "stdout",
     "output_type": "stream",
     "text": [
      "[('tok2vec', <spacy.pipeline.tok2vec.Tok2Vec object at 0x7fe791aa9c40>), ('tagger', <spacy.pipeline.tagger.Tagger object at 0x7fe791aa9220>), ('parser', <spacy.pipeline.dep_parser.DependencyParser object at 0x7fe791ae3b30>), ('attribute_ruler', <spacy.pipeline.attributeruler.AttributeRuler object at 0x7fe7918e7f00>), ('lemmatizer', <spacy.lang.en.lemmatizer.EnglishLemmatizer object at 0x7fe791871cc0>), ('ner', <spacy.pipeline.ner.EntityRecognizer object at 0x7fe791ae3eb0>), ('Document_Length', <function custom_component_function at 0x7fe791a95d30>)]\n"
     ]
    }
   ],
   "source": [
    "print(nlp.pipeline)"
   ]
  },
  {
   "cell_type": "code",
   "execution_count": 19,
   "id": "0ff1214d-9e0d-4efb-bcb4-98af9e92761e",
   "metadata": {},
   "outputs": [
    {
     "name": "stdout",
     "output_type": "stream",
     "text": [
      "Number of Documents:  2\n"
     ]
    }
   ],
   "source": [
    "doc = nlp(\"Hello world\")"
   ]
  },
  {
   "cell_type": "code",
   "execution_count": 21,
   "id": "eb425c58-5da1-4412-a100-82921c898e21",
   "metadata": {},
   "outputs": [],
   "source": [
    "nlp = spacy.load(\"en_core_web_sm\", exclude='Document_Length')"
   ]
  },
  {
   "cell_type": "code",
   "execution_count": 23,
   "id": "21b4c549-f1a9-479a-8bcc-d703c0871a79",
   "metadata": {},
   "outputs": [
    {
     "data": {
      "text/plain": [
       "[('tok2vec', <spacy.pipeline.tok2vec.Tok2Vec at 0x7fe7904410a0>),\n",
       " ('tagger', <spacy.pipeline.tagger.Tagger at 0x7fe790432a60>),\n",
       " ('parser', <spacy.pipeline.dep_parser.DependencyParser at 0x7fe78fe4b270>),\n",
       " ('attribute_ruler',\n",
       "  <spacy.pipeline.attributeruler.AttributeRuler at 0x7fe7902a10c0>),\n",
       " ('lemmatizer',\n",
       "  <spacy.lang.en.lemmatizer.EnglishLemmatizer at 0x7fe7902a5e40>),\n",
       " ('ner', <spacy.pipeline.ner.EntityRecognizer at 0x7fe78fe4b740>)]"
      ]
     },
     "execution_count": 23,
     "metadata": {},
     "output_type": "execute_result"
    }
   ],
   "source": [
    "nlp.pipeline"
   ]
  },
  {
   "cell_type": "code",
   "execution_count": 24,
   "id": "c620c0a1-197f-4aca-81dc-9ecdfb86e26b",
   "metadata": {},
   "outputs": [],
   "source": [
    "nlp = spacy.load(\"en_core_web_sm\")\n",
    "animals = [\"Golden Retriever\", \"cat\", \"turtle\", \"Rattus norvegicus\"]\n",
    "animal_patterns = list(nlp.pipe(animals))"
   ]
  },
  {
   "cell_type": "code",
   "execution_count": 25,
   "id": "d1aa3229-07ef-4ee8-ac40-f225c7984d9b",
   "metadata": {},
   "outputs": [
    {
     "data": {
      "text/plain": [
       "[Golden Retriever, cat, turtle, Rattus norvegicus]"
      ]
     },
     "execution_count": 25,
     "metadata": {},
     "output_type": "execute_result"
    }
   ],
   "source": [
    "animal_patterns"
   ]
  },
  {
   "cell_type": "code",
   "execution_count": 26,
   "id": "018e211c-db1b-48ed-95a5-48cbb8fc1d30",
   "metadata": {},
   "outputs": [
    {
     "data": {
      "text/plain": [
       "<generator object Language.pipe at 0x7fe7902e3d60>"
      ]
     },
     "execution_count": 26,
     "metadata": {},
     "output_type": "execute_result"
    }
   ],
   "source": [
    "nlp.pipe(animals)"
   ]
  },
  {
   "cell_type": "code",
   "execution_count": null,
   "id": "1258fa41-061d-4db3-abf8-6703373e2c41",
   "metadata": {},
   "outputs": [],
   "source": [
    "import os\n",
    "import pandas as pd\n",
    "import spacy\n",
    "from nltk.corpus import stopwords"
   ]
  },
  {
   "cell_type": "code",
   "execution_count": null,
   "id": "4ad5693b-6609-48d2-8307-a1da376f675f",
   "metadata": {},
   "outputs": [],
   "source": [
    "file = os.getcwd()+'/Data/papers.csv'\n",
    "data = pd.read_csv(file, nrows=10)\n"
   ]
  },
  {
   "cell_type": "code",
   "execution_count": null,
   "id": "cce8c373-2e61-4457-a86c-783292d487e0",
   "metadata": {},
   "outputs": [],
   "source": [
    "data.head(2)"
   ]
  },
  {
   "cell_type": "code",
   "execution_count": null,
   "id": "520536e1-5912-4a80-8655-def59fda6a24",
   "metadata": {},
   "outputs": [],
   "source": [
    "documents = data['paper_text']"
   ]
  },
  {
   "cell_type": "code",
   "execution_count": 5,
   "id": "fd041961-5b64-4736-a078-3da0f78882ce",
   "metadata": {},
   "outputs": [
    {
     "data": {
      "text/plain": [
       "10"
      ]
     },
     "execution_count": 5,
     "metadata": {},
     "output_type": "execute_result"
    }
   ],
   "source": [
    "len(documents)"
   ]
  },
  {
   "cell_type": "code",
   "execution_count": 6,
   "id": "aa40baf4-c3d7-4a0e-8363-a18eba67dfde",
   "metadata": {},
   "outputs": [
    {
     "data": {
      "text/plain": [
       "0    767\\n\\nSELF-ORGANIZATION OF ASSOCIATIVE DATABA...\n",
       "1    683\\n\\nA MEAN FIELD THEORY OF LAYER IV OF VISU...\n",
       "2    394\\n\\nSTORING COVARIANCE BY THE ASSOCIATIVE\\n...\n",
       "3    Bayesian Query Construction for Neural\\nNetwor...\n",
       "4    Neural Network Ensembles, Cross\\nValidation, a...\n",
       "5    U sing a neural net to instantiate a\\ndeformab...\n",
       "6    Plasticity-Mediated Competitive Learning\\n\\nTe...\n",
       "7    ICEG Morphology Classification using an\\nAnalo...\n",
       "8    Real-Time Control of a Tokamak Plasma\\nUsing N...\n",
       "9    Real-Time Control of a Tokamak Plasma\\nUsing N...\n",
       "Name: paper_text, dtype: object"
      ]
     },
     "execution_count": 6,
     "metadata": {},
     "output_type": "execute_result"
    }
   ],
   "source": [
    "documents"
   ]
  },
  {
   "cell_type": "code",
   "execution_count": 10,
   "id": "5179d2f8-afef-4c5f-b7fc-b27f253b8b07",
   "metadata": {},
   "outputs": [],
   "source": [
    "nlp = spacy.load('en_core_web_sm')\n",
    "stops = stopwords.words('english')"
   ]
  },
  {
   "cell_type": "code",
   "execution_count": 22,
   "id": "0ede2a4d-df66-4280-9424-a1f791dde467",
   "metadata": {},
   "outputs": [],
   "source": [
    "cleaned_documents = []\n",
    "for doc in documents:\n",
    "    doc = nlp(doc)\n",
    "    tokens = []\n",
    "    for token in doc:\n",
    "        if token.tag_ in ['NNP', 'VBZ','VBG', 'IN'] and token.text not in stops:\n",
    "            tokens.append(str(token.lemma_).lower())\n",
    "    cleaned_documents.append(tokens)"
   ]
  },
  {
   "cell_type": "code",
   "execution_count": null,
   "id": "bb072ef3-051d-4b50-a8bd-3b9abadc44fe",
   "metadata": {},
   "outputs": [],
   "source": []
  },
  {
   "cell_type": "code",
   "execution_count": 23,
   "id": "579dfdf0-cbaa-4dde-90fc-fd0620ed989a",
   "metadata": {},
   "outputs": [
    {
     "data": {
      "text/plain": [
       "10"
      ]
     },
     "execution_count": 23,
     "metadata": {},
     "output_type": "execute_result"
    }
   ],
   "source": [
    "len(cleaned_documents)"
   ]
  },
  {
   "cell_type": "code",
   "execution_count": 29,
   "id": "b238bdfa-34d3-4141-b035-f331e3f86600",
   "metadata": {},
   "outputs": [],
   "source": [
    "from gensim import corpora"
   ]
  },
  {
   "cell_type": "code",
   "execution_count": null,
   "id": "5b3e28a5-d2d1-4d64-957c-05136ec8cdc5",
   "metadata": {},
   "outputs": [],
   "source": [
    "dictionary = corpora.Dictionary.l"
   ]
  }
 ],
 "metadata": {
  "kernelspec": {
   "display_name": "Python 3 (ipykernel)",
   "language": "python",
   "name": "python3"
  },
  "language_info": {
   "codemirror_mode": {
    "name": "ipython",
    "version": 3
   },
   "file_extension": ".py",
   "mimetype": "text/x-python",
   "name": "python",
   "nbconvert_exporter": "python",
   "pygments_lexer": "ipython3",
   "version": "3.8.10"
  }
 },
 "nbformat": 4,
 "nbformat_minor": 5
}
