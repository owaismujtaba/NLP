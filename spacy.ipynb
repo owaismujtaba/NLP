{
 "cells": [
  {
   "cell_type": "code",
   "execution_count": 1,
   "id": "9fba6fed-fc59-487f-a466-2aa433dac235",
   "metadata": {},
   "outputs": [
    {
     "name": "stderr",
     "output_type": "stream",
     "text": [
      "/home/ubuntu/PyTorch/lib/python3.8/site-packages/tqdm/auto.py:22: TqdmWarning: IProgress not found. Please update jupyter and ipywidgets. See https://ipywidgets.readthedocs.io/en/stable/user_install.html\n",
      "  from .autonotebook import tqdm as notebook_tqdm\n",
      "2022-09-09 11:36:47.737684: I tensorflow/stream_executor/cuda/cuda_gpu_executor.cc:975] successful NUMA node read from SysFS had negative value (-1), but there must be at least one NUMA node, so returning NUMA node zero\n",
      "2022-09-09 11:36:47.763666: I tensorflow/stream_executor/cuda/cuda_gpu_executor.cc:975] successful NUMA node read from SysFS had negative value (-1), but there must be at least one NUMA node, so returning NUMA node zero\n",
      "2022-09-09 11:36:47.763820: I tensorflow/stream_executor/cuda/cuda_gpu_executor.cc:975] successful NUMA node read from SysFS had negative value (-1), but there must be at least one NUMA node, so returning NUMA node zero\n"
     ]
    }
   ],
   "source": [
    "import os\n",
    "import pandas as pd\n",
    "import spacy\n",
    "from nltk.corpus import stopwords\n",
    "import string\n",
    "from gensim import corpora\n",
    "import gensim\n",
    "import pyLDAvis\n",
    "import pyLDAvis.gensim_models as gensimvis"
   ]
  },
  {
   "cell_type": "code",
   "execution_count": 2,
   "id": "de1021c0-88b2-4724-865e-caf9478650b3",
   "metadata": {},
   "outputs": [],
   "source": [
    "file = os.getcwd()+'/Data/papers.csv'\n",
    "data = pd.read_csv(file, nrows=10)\n"
   ]
  },
  {
   "cell_type": "code",
   "execution_count": 3,
   "id": "02d20224-487a-48dd-9f57-2cee0e65575b",
   "metadata": {},
   "outputs": [
    {
     "data": {
      "text/html": [
       "<div>\n",
       "<style scoped>\n",
       "    .dataframe tbody tr th:only-of-type {\n",
       "        vertical-align: middle;\n",
       "    }\n",
       "\n",
       "    .dataframe tbody tr th {\n",
       "        vertical-align: top;\n",
       "    }\n",
       "\n",
       "    .dataframe thead th {\n",
       "        text-align: right;\n",
       "    }\n",
       "</style>\n",
       "<table border=\"1\" class=\"dataframe\">\n",
       "  <thead>\n",
       "    <tr style=\"text-align: right;\">\n",
       "      <th></th>\n",
       "      <th>id</th>\n",
       "      <th>year</th>\n",
       "      <th>title</th>\n",
       "      <th>event_type</th>\n",
       "      <th>pdf_name</th>\n",
       "      <th>abstract</th>\n",
       "      <th>paper_text</th>\n",
       "    </tr>\n",
       "  </thead>\n",
       "  <tbody>\n",
       "    <tr>\n",
       "      <th>0</th>\n",
       "      <td>1</td>\n",
       "      <td>1987</td>\n",
       "      <td>Self-Organization of Associative Database and ...</td>\n",
       "      <td>NaN</td>\n",
       "      <td>1-self-organization-of-associative-database-an...</td>\n",
       "      <td>Abstract Missing</td>\n",
       "      <td>767\\n\\nSELF-ORGANIZATION OF ASSOCIATIVE DATABA...</td>\n",
       "    </tr>\n",
       "    <tr>\n",
       "      <th>1</th>\n",
       "      <td>10</td>\n",
       "      <td>1987</td>\n",
       "      <td>A Mean Field Theory of Layer IV of Visual Cort...</td>\n",
       "      <td>NaN</td>\n",
       "      <td>10-a-mean-field-theory-of-layer-iv-of-visual-c...</td>\n",
       "      <td>Abstract Missing</td>\n",
       "      <td>683\\n\\nA MEAN FIELD THEORY OF LAYER IV OF VISU...</td>\n",
       "    </tr>\n",
       "  </tbody>\n",
       "</table>\n",
       "</div>"
      ],
      "text/plain": [
       "   id  year                                              title  event_type  \\\n",
       "0   1  1987  Self-Organization of Associative Database and ...         NaN   \n",
       "1  10  1987  A Mean Field Theory of Layer IV of Visual Cort...         NaN   \n",
       "\n",
       "                                            pdf_name          abstract  \\\n",
       "0  1-self-organization-of-associative-database-an...  Abstract Missing   \n",
       "1  10-a-mean-field-theory-of-layer-iv-of-visual-c...  Abstract Missing   \n",
       "\n",
       "                                          paper_text  \n",
       "0  767\\n\\nSELF-ORGANIZATION OF ASSOCIATIVE DATABA...  \n",
       "1  683\\n\\nA MEAN FIELD THEORY OF LAYER IV OF VISU...  "
      ]
     },
     "execution_count": 3,
     "metadata": {},
     "output_type": "execute_result"
    }
   ],
   "source": [
    "data.head(2)"
   ]
  },
  {
   "cell_type": "code",
   "execution_count": 4,
   "id": "9d318198-0a87-4912-a706-e9e488606aae",
   "metadata": {},
   "outputs": [],
   "source": [
    "documents = data['paper_text']\n",
    "documents\n",
    "\n",
    "def clean_documents(documents):\n",
    "    nlp = spacy.load('en_core_web_sm')\n",
    "    stops = stopwords.words('english')\n",
    "    alphabet = list(string.ascii_lowercase)\n",
    "    stops = stops + alphabet\n",
    "    \n",
    "    \n",
    "    cleaned_documents = []\n",
    "    for doc in documents:\n",
    "        doc = nlp(doc)\n",
    "        tokens = []\n",
    "        for token in doc:\n",
    "            if token.tag_ in ['NNP', 'VBZ','VBG', 'IN'] and str(token.text).lower() not in stops and len(token.text)>2:\n",
    "                tokens.append(str(token.lemma_).lower())\n",
    "        cleaned_documents.append(tokens)\n",
    "    return clean_documents"
   ]
  },
  {
   "cell_type": "code",
   "execution_count": 5,
   "id": "ded8d2ef-21f8-4673-9581-d61ca70ce59d",
   "metadata": {},
   "outputs": [],
   "source": [
    "documents = clean_documents(documents)"
   ]
  },
  {
   "cell_type": "code",
   "execution_count": 6,
   "id": "d6b26040-9714-41db-8793-2f29afc7d8da",
   "metadata": {},
   "outputs": [
    {
     "ename": "TypeError",
     "evalue": "'function' object is not iterable",
     "output_type": "error",
     "traceback": [
      "\u001b[0;31m---------------------------------------------------------------------------\u001b[0m",
      "\u001b[0;31mTypeError\u001b[0m                                 Traceback (most recent call last)",
      "Input \u001b[0;32mIn [6]\u001b[0m, in \u001b[0;36m<cell line: 1>\u001b[0;34m()\u001b[0m\n\u001b[0;32m----> 1\u001b[0m id2word \u001b[38;5;241m=\u001b[39m \u001b[43mcorpora\u001b[49m\u001b[38;5;241;43m.\u001b[39;49m\u001b[43mDictionary\u001b[49m\u001b[43m(\u001b[49m\u001b[43mdocuments\u001b[49m\u001b[43m)\u001b[49m\n",
      "File \u001b[0;32m~/PyTorch/lib/python3.8/site-packages/gensim/corpora/dictionary.py:78\u001b[0m, in \u001b[0;36mDictionary.__init__\u001b[0;34m(self, documents, prune_at)\u001b[0m\n\u001b[1;32m     75\u001b[0m \u001b[38;5;28mself\u001b[39m\u001b[38;5;241m.\u001b[39mnum_nnz \u001b[38;5;241m=\u001b[39m \u001b[38;5;241m0\u001b[39m\n\u001b[1;32m     77\u001b[0m \u001b[38;5;28;01mif\u001b[39;00m documents \u001b[38;5;129;01mis\u001b[39;00m \u001b[38;5;129;01mnot\u001b[39;00m \u001b[38;5;28;01mNone\u001b[39;00m:\n\u001b[0;32m---> 78\u001b[0m     \u001b[38;5;28;43mself\u001b[39;49m\u001b[38;5;241;43m.\u001b[39;49m\u001b[43madd_documents\u001b[49m\u001b[43m(\u001b[49m\u001b[43mdocuments\u001b[49m\u001b[43m,\u001b[49m\u001b[43m \u001b[49m\u001b[43mprune_at\u001b[49m\u001b[38;5;241;43m=\u001b[39;49m\u001b[43mprune_at\u001b[49m\u001b[43m)\u001b[49m\n\u001b[1;32m     79\u001b[0m     \u001b[38;5;28mself\u001b[39m\u001b[38;5;241m.\u001b[39madd_lifecycle_event(\n\u001b[1;32m     80\u001b[0m         \u001b[38;5;124m\"\u001b[39m\u001b[38;5;124mcreated\u001b[39m\u001b[38;5;124m\"\u001b[39m,\n\u001b[1;32m     81\u001b[0m         msg\u001b[38;5;241m=\u001b[39m\u001b[38;5;124mf\u001b[39m\u001b[38;5;124m\"\u001b[39m\u001b[38;5;124mbuilt \u001b[39m\u001b[38;5;132;01m{\u001b[39;00m\u001b[38;5;28mself\u001b[39m\u001b[38;5;132;01m}\u001b[39;00m\u001b[38;5;124m from \u001b[39m\u001b[38;5;132;01m{\u001b[39;00m\u001b[38;5;28mself\u001b[39m\u001b[38;5;241m.\u001b[39mnum_docs\u001b[38;5;132;01m}\u001b[39;00m\u001b[38;5;124m documents (total \u001b[39m\u001b[38;5;132;01m{\u001b[39;00m\u001b[38;5;28mself\u001b[39m\u001b[38;5;241m.\u001b[39mnum_pos\u001b[38;5;132;01m}\u001b[39;00m\u001b[38;5;124m corpus positions)\u001b[39m\u001b[38;5;124m\"\u001b[39m,\n\u001b[1;32m     82\u001b[0m     )\n",
      "File \u001b[0;32m~/PyTorch/lib/python3.8/site-packages/gensim/corpora/dictionary.py:196\u001b[0m, in \u001b[0;36mDictionary.add_documents\u001b[0;34m(self, documents, prune_at)\u001b[0m\n\u001b[1;32m    169\u001b[0m \u001b[38;5;28;01mdef\u001b[39;00m \u001b[38;5;21madd_documents\u001b[39m(\u001b[38;5;28mself\u001b[39m, documents, prune_at\u001b[38;5;241m=\u001b[39m\u001b[38;5;241m2000000\u001b[39m):\n\u001b[1;32m    170\u001b[0m     \u001b[38;5;124;03m\"\"\"Update dictionary from a collection of `documents`.\u001b[39;00m\n\u001b[1;32m    171\u001b[0m \n\u001b[1;32m    172\u001b[0m \u001b[38;5;124;03m    Parameters\u001b[39;00m\n\u001b[0;32m   (...)\u001b[0m\n\u001b[1;32m    194\u001b[0m \n\u001b[1;32m    195\u001b[0m \u001b[38;5;124;03m    \"\"\"\u001b[39;00m\n\u001b[0;32m--> 196\u001b[0m     \u001b[38;5;28;01mfor\u001b[39;00m docno, document \u001b[38;5;129;01min\u001b[39;00m \u001b[38;5;28;43menumerate\u001b[39;49m\u001b[43m(\u001b[49m\u001b[43mdocuments\u001b[49m\u001b[43m)\u001b[49m:\n\u001b[1;32m    197\u001b[0m         \u001b[38;5;66;03m# log progress & run a regular check for pruning, once every 10k docs\u001b[39;00m\n\u001b[1;32m    198\u001b[0m         \u001b[38;5;28;01mif\u001b[39;00m docno \u001b[38;5;241m%\u001b[39m \u001b[38;5;241m10000\u001b[39m \u001b[38;5;241m==\u001b[39m \u001b[38;5;241m0\u001b[39m:\n\u001b[1;32m    199\u001b[0m             \u001b[38;5;28;01mif\u001b[39;00m prune_at \u001b[38;5;129;01mis\u001b[39;00m \u001b[38;5;129;01mnot\u001b[39;00m \u001b[38;5;28;01mNone\u001b[39;00m \u001b[38;5;129;01mand\u001b[39;00m \u001b[38;5;28mlen\u001b[39m(\u001b[38;5;28mself\u001b[39m) \u001b[38;5;241m>\u001b[39m prune_at:\n",
      "\u001b[0;31mTypeError\u001b[0m: 'function' object is not iterable"
     ]
    }
   ],
   "source": [
    "id2word = corpora.Dictionary(documents)"
   ]
  },
  {
   "cell_type": "code",
   "execution_count": null,
   "id": "d4b94e38-9d33-4adb-90bb-4e860e4a170c",
   "metadata": {},
   "outputs": [],
   "source": [
    "id2word"
   ]
  },
  {
   "cell_type": "code",
   "execution_count": null,
   "id": "aaa6a0e7-abdb-4943-b17b-21915ddfdc09",
   "metadata": {},
   "outputs": [],
   "source": [
    "print(id2word)"
   ]
  },
  {
   "cell_type": "code",
   "execution_count": null,
   "id": "91743318-e4ad-4577-8213-19acffd18856",
   "metadata": {},
   "outputs": [],
   "source": [
    "tokens = id2word.token2id\n",
    "tokens[:10]"
   ]
  },
  {
   "cell_type": "code",
   "execution_count": null,
   "id": "f18e63a7-6d3d-4d11-a396-0614a25fdd82",
   "metadata": {},
   "outputs": [],
   "source": [
    "def idtoword(cleaned_documents):\n",
    "    corpus = []\n",
    "    \n",
    "    for text in cleaned_documents:\n",
    "        new = id2word.doc2bow(text)\n",
    "        corpus.append(new)\n",
    "    return corpus"
   ]
  },
  {
   "cell_type": "code",
   "execution_count": null,
   "id": "0ce3f61b-0b43-4973-a4ab-c0a32c2eae33",
   "metadata": {},
   "outputs": [],
   "source": [
    "corpus = idtoword(cleaned_documents)"
   ]
  },
  {
   "cell_type": "code",
   "execution_count": null,
   "id": "3a532bbc-058d-4648-8481-bfefbab70347",
   "metadata": {},
   "outputs": [],
   "source": []
  },
  {
   "cell_type": "code",
   "execution_count": null,
   "id": "425cc7ae-5b42-41b5-8506-d21d353340e9",
   "metadata": {},
   "outputs": [],
   "source": [
    "model = gensim.models.ldamodel.LdaModel(\n",
    "        corpus = corpus,\n",
    "        id2word=id2word,\n",
    "        num_topics=5,\n",
    "        random_state=100,\n",
    "        update_every =1,\n",
    "        chunksize=100,\n",
    "        passes=10,\n",
    "        alpha='auto')\n",
    "    \n",
    "vis = gensimvis.prepare(\n",
    "        model, \n",
    "        corpus, \n",
    "        id2word, \n",
    "        mds=\"mds\",\n",
    "        R=30)"
   ]
  },
  {
   "cell_type": "code",
   "execution_count": null,
   "id": "5ab4fc98-8240-4697-9455-0820cd54f361",
   "metadata": {},
   "outputs": [],
   "source": [
    "pyLDAvis.save_html(vis, os.getcwd()+'/Results/ldavisbigramstrigrams.html')"
   ]
  },
  {
   "cell_type": "code",
   "execution_count": null,
   "id": "0601cff3-b06b-4182-985b-3d3d7e1bf52b",
   "metadata": {},
   "outputs": [],
   "source": [
    "def cluster_test(corpus, model):\n",
    "    docs_with_1_topic = 0\n",
    "    docs_with_multiple_topics = 0\n",
    "    docs_with_no_topics = 0\n",
    "    total_docs = 0\n",
    "    for doc in corpus:\n",
    "        topics = model.get_document_topics(doc, minimum_probability=0.20)\n",
    "        total_docs += 1\n",
    "        if len(topics) == 1:\n",
    "            docs_with_1_topic += 1\n",
    "        elif len(topics) > 1:\n",
    "            docs_with_multiple_topics += 1\n",
    "        else:\n",
    "            docs_with_no_topics += 1\n",
    "    print('Corpus assigned to a single topic:', (docs_with_1_topic / total_docs) * 100, '%')\n",
    "    print('Corpus assigned to multiple topics:', (docs_with_multiple_topics / total_docs) * 100, '%')\n",
    "    print('corpus assigned to no topics:', (docs_with_no_topics / total_docs) * 100, '%')"
   ]
  },
  {
   "cell_type": "code",
   "execution_count": null,
   "id": "806a1768-4c3b-4c4a-8ab5-0cc1e9dccb0e",
   "metadata": {},
   "outputs": [],
   "source": [
    "cluster_test(corpus, model)"
   ]
  },
  {
   "cell_type": "code",
   "execution_count": null,
   "id": "fb57e7a2-7eeb-46cd-aa48-f78312d58e90",
   "metadata": {},
   "outputs": [],
   "source": [
    "def retrieval_test(new_doc, lda, index):\n",
    "    new_bow = dictionary.doc2bow(new_doc)  # change new document to bag of words representation\n",
    "    new_vec = lda[new_bow]  # change new bag of words to a vector\n",
    "    index.num_best = 10  # set index to generate 10 best results\n",
    "    matches = (index[new_vec])\n",
    "    scores = []\n",
    "    for match in matches:\n",
    "        score = (match[1])\n",
    "        scores.append(score)\n",
    "        score = str(score)\n",
    "        key = 'doc_' + str(match[0])\n",
    "        article_dict = doc2metadata[key]\n",
    "        author = article_dict['author']\n",
    "        title = article_dict['title']\n",
    "        year = article_dict['pub_year']\n",
    "        print(key + ': ' + author.title() + ' (' + year + '). ' + title.title() + '\\n\\tsimilarity score -> ' + score + '\\n')"
   ]
  },
  {
   "cell_type": "code",
   "execution_count": 7,
   "id": "94595f86-26f6-49f0-be3c-416f3ea2ac32",
   "metadata": {},
   "outputs": [],
   "source": [
    "file = os.getcwd()+'/Data/papers.csv'\n",
    "data = pd.read_csv(file, nrows=20)"
   ]
  },
  {
   "cell_type": "code",
   "execution_count": 8,
   "id": "89b93cae-05eb-4f0a-aaa2-3b410ce4d35b",
   "metadata": {},
   "outputs": [],
   "source": [
    "data = data['paper_text']"
   ]
  },
  {
   "cell_type": "code",
   "execution_count": 9,
   "id": "9ea029a9-9d8f-4c5d-aa6a-aa641b63a6ca",
   "metadata": {},
   "outputs": [
    {
     "data": {
      "text/plain": [
       "0    767\\n\\nSELF-ORGANIZATION OF ASSOCIATIVE DATABA...\n",
       "1    683\\n\\nA MEAN FIELD THEORY OF LAYER IV OF VISU...\n",
       "Name: paper_text, dtype: object"
      ]
     },
     "execution_count": 9,
     "metadata": {},
     "output_type": "execute_result"
    }
   ],
   "source": [
    "data.head(2)"
   ]
  },
  {
   "cell_type": "code",
   "execution_count": 10,
   "id": "e70b4a81-3209-4f77-9ad2-7a1cc8b9369c",
   "metadata": {},
   "outputs": [
    {
     "name": "stdout",
     "output_type": "stream",
     "text": [
      "Documents Cleaned\n",
      "Fitting the LDA Model\n"
     ]
    },
    {
     "name": "stderr",
     "output_type": "stream",
     "text": [
      "WARNING:root:Unknown mds `mds`, switch to PCoA\n",
      "/home/ubuntu/PyTorch/lib/python3.8/site-packages/pyLDAvis/_prepare.py:246: FutureWarning: In a future version of pandas all arguments of DataFrame.drop except for the argument 'labels' will be keyword-only.\n",
      "  default_term_info = default_term_info.sort_values(\n"
     ]
    },
    {
     "name": "stdout",
     "output_type": "stream",
     "text": [
      "Results saved in Results Folder\n"
     ]
    },
    {
     "name": "stderr",
     "output_type": "stream",
     "text": [
      "/home/ubuntu/PyTorch/lib/python3.8/site-packages/past/builtins/misc.py:45: DeprecationWarning: the imp module is deprecated in favour of importlib; see the module's documentation for alternative uses\n",
      "  from imp import reload\n",
      "/home/ubuntu/PyTorch/lib/python3.8/site-packages/past/builtins/misc.py:45: DeprecationWarning: the imp module is deprecated in favour of importlib; see the module's documentation for alternative uses\n",
      "  from imp import reload\n",
      "/home/ubuntu/PyTorch/lib/python3.8/site-packages/past/builtins/misc.py:45: DeprecationWarning: the imp module is deprecated in favour of importlib; see the module's documentation for alternative uses\n",
      "  from imp import reload\n",
      "/home/ubuntu/PyTorch/lib/python3.8/site-packages/past/builtins/misc.py:45: DeprecationWarning: the imp module is deprecated in favour of importlib; see the module's documentation for alternative uses\n",
      "  from imp import reload\n",
      "/home/ubuntu/PyTorch/lib/python3.8/site-packages/past/builtins/misc.py:45: DeprecationWarning: the imp module is deprecated in favour of importlib; see the module's documentation for alternative uses\n",
      "  from imp import reload\n",
      "/home/ubuntu/PyTorch/lib/python3.8/site-packages/past/builtins/misc.py:45: DeprecationWarning: the imp module is deprecated in favour of importlib; see the module's documentation for alternative uses\n",
      "  from imp import reload\n"
     ]
    }
   ],
   "source": [
    "from final import pipeline_LDA\n",
    "\n",
    "pipeline_LDA(data, 4)"
   ]
  },
  {
   "cell_type": "code",
   "execution_count": null,
   "id": "356a6f32-d674-4fa0-9ce2-b399030b2e72",
   "metadata": {},
   "outputs": [],
   "source": []
  },
  {
   "cell_type": "code",
   "execution_count": null,
   "id": "863fc487-7794-4519-bd2b-ee370fec9e9a",
   "metadata": {},
   "outputs": [],
   "source": []
  }
 ],
 "metadata": {
  "kernelspec": {
   "display_name": "Python 3 (ipykernel)",
   "language": "python",
   "name": "python3"
  },
  "language_info": {
   "codemirror_mode": {
    "name": "ipython",
    "version": 3
   },
   "file_extension": ".py",
   "mimetype": "text/x-python",
   "name": "python",
   "nbconvert_exporter": "python",
   "pygments_lexer": "ipython3",
   "version": "3.8.10"
  }
 },
 "nbformat": 4,
 "nbformat_minor": 5
}
